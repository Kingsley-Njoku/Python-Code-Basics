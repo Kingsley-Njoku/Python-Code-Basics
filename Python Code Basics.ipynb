{
 "cells": [
  {
   "cell_type": "markdown",
   "id": "01d9aafe",
   "metadata": {},
   "source": [
    "# List, Tuple, Set and Dictionary"
   ]
  },
  {
   "cell_type": "markdown",
   "id": "cac637c1",
   "metadata": {},
   "source": [
    "## 1) List In Python:"
   ]
  },
  {
   "cell_type": "markdown",
   "id": "b527a5fe",
   "metadata": {},
   "source": [
    "### List is used to store multiple items in a single variable\n",
    "### List are created in a square bracket [ ]\n",
    "### List items are ordered, changeable and allow duplicate values"
   ]
  },
  {
   "cell_type": "code",
   "execution_count": 10,
   "id": "f60869d8",
   "metadata": {},
   "outputs": [
    {
     "name": "stdout",
     "output_type": "stream",
     "text": [
      "[1, 2, 3, 4, 5, 6, 7, 8, 9]\n",
      "['James', 'Angela', 'Ezinne', 'Abimbola', 'Emmanuel']\n",
      "<class 'list'>\n",
      "<class 'list'>\n"
     ]
    }
   ],
   "source": [
    "# Example\n",
    "numbers = [1,2,3,4,5,6,7,8,9]\n",
    "names = ['James', 'Angela', 'Ezinne', 'Abimbola', 'Emmanuel']\n",
    "print(numbers)\n",
    "print(names)\n",
    "print(type(numbers))\n",
    "print(type(names))"
   ]
  },
  {
   "cell_type": "markdown",
   "id": "5be9fd36",
   "metadata": {},
   "source": [
    "### List allows for a variety of keywords that are capable of making changes to the list. They include; Append, Extend, Insert, Pop, Index, Remove, Clear, Count and Reverse"
   ]
  },
  {
   "cell_type": "markdown",
   "id": "60d81e40",
   "metadata": {},
   "source": [
    "## i) Append:\n",
    "### We use .append('text') to add a text to the back of the items in the variable"
   ]
  },
  {
   "cell_type": "code",
   "execution_count": 17,
   "id": "b8fa9252",
   "metadata": {},
   "outputs": [
    {
     "name": "stdout",
     "output_type": "stream",
     "text": [
      "['apple', 'orange', 'pineapple']\n"
     ]
    }
   ],
   "source": [
    "# Example\n",
    "name_of_fruits = ['apple', 'orange', 'pineapple']\n",
    "print(name_of_fruits)"
   ]
  },
  {
   "cell_type": "code",
   "execution_count": 18,
   "id": "c9c81b06",
   "metadata": {},
   "outputs": [
    {
     "name": "stdout",
     "output_type": "stream",
     "text": [
      "['apple', 'orange', 'pineapple', 'banana']\n"
     ]
    }
   ],
   "source": [
    "# Now let's add banana to the list\n",
    "name_of_fruits.append('banana')\n",
    "print(name_of_fruits)"
   ]
  },
  {
   "cell_type": "markdown",
   "id": "4d66d3dc",
   "metadata": {},
   "source": [
    "## ii) Extend:\n",
    "### .extend('text', 'text', 'text') is used to add multiple elements in a list"
   ]
  },
  {
   "cell_type": "code",
   "execution_count": 10,
   "id": "25e0948b",
   "metadata": {},
   "outputs": [
    {
     "name": "stdout",
     "output_type": "stream",
     "text": [
      "['apple', 'orange', 'pineapple']\n",
      "['apple', 'orange', 'pineapple', 'banana', 'water lemon', 'grape']\n"
     ]
    }
   ],
   "source": [
    "name_of_fruits = ['apple', 'orange', 'pineapple']\n",
    "print(name_of_fruits)\n",
    "\n",
    "# We'll add banana, water lemon and grape to this list\n",
    "name_of_fruits.extend(['banana', 'water lemon', 'grape'])\n",
    "print(name_of_fruits)"
   ]
  },
  {
   "cell_type": "markdown",
   "id": "d002dab6",
   "metadata": {},
   "source": [
    "## iii) Index:\n",
    "### This is used to find out the index number of an element in a list.\n",
    "### This is most useful if you have large number of items in a list"
   ]
  },
  {
   "cell_type": "code",
   "execution_count": 15,
   "id": "c32333e2",
   "metadata": {},
   "outputs": [
    {
     "data": {
      "text/plain": [
       "1"
      ]
     },
     "execution_count": 15,
     "metadata": {},
     "output_type": "execute_result"
    }
   ],
   "source": [
    "# Example\n",
    "fruits = ['apple', 'orange', 'water lemon', 'grape', 'pineapple']\n",
    "\n",
    "# lets find out the index number of orange\n",
    "fruits.index('orange')"
   ]
  },
  {
   "cell_type": "markdown",
   "id": "53f52ede",
   "metadata": {},
   "source": [
    "## iv) Pop:\n",
    "### Pop is used to remove the last element in a list.\n",
    "### It can also remove any element in the list by specifying the index number"
   ]
  },
  {
   "cell_type": "code",
   "execution_count": 13,
   "id": "d8e1993b",
   "metadata": {},
   "outputs": [
    {
     "name": "stdout",
     "output_type": "stream",
     "text": [
      "[1, 2, 3, 4]\n"
     ]
    }
   ],
   "source": [
    "# Example\n",
    "numbers = [1,2,3,4,5]\n",
    "numbers.pop()\n",
    "print(numbers)"
   ]
  },
  {
   "cell_type": "code",
   "execution_count": 14,
   "id": "cb59e338",
   "metadata": {},
   "outputs": [
    {
     "name": "stdout",
     "output_type": "stream",
     "text": [
      "[1, 2, 4, 5]\n"
     ]
    }
   ],
   "source": [
    "#let's remove the number 3 from the list using pop by using its index number\n",
    "numbers = [1,2,3,4,5]\n",
    "numbers.pop(2)\n",
    "print(numbers)"
   ]
  },
  {
   "cell_type": "markdown",
   "id": "872e7c9d",
   "metadata": {},
   "source": [
    "## v) Insert:\n",
    "### This used to insert an element into any place in the item list using its index number"
   ]
  },
  {
   "cell_type": "code",
   "execution_count": 11,
   "id": "5ad3fb75",
   "metadata": {},
   "outputs": [
    {
     "name": "stdout",
     "output_type": "stream",
     "text": [
      "[1, 2, 3, 4, 5, 6, 7, 8, 9, 10]\n"
     ]
    }
   ],
   "source": [
    "# Example\n",
    "numbers = [1,2,3,4,5,6,8,9,10]\n",
    "\n",
    "# the number 7 is missing in this list, to insert it, we'll count the placement of the missing value using its index number\n",
    "# the index number of the missing value is 6\n",
    "\n",
    "# knowing this, we insert our missing value\n",
    "numbers.insert(6,7)\n",
    "print(numbers)"
   ]
  },
  {
   "cell_type": "markdown",
   "id": "fe3c077a",
   "metadata": {},
   "source": [
    "## vi) Remove:\n",
    "### This is used to remove a particular element in a list"
   ]
  },
  {
   "cell_type": "code",
   "execution_count": 16,
   "id": "09e99f0e",
   "metadata": {},
   "outputs": [
    {
     "name": "stdout",
     "output_type": "stream",
     "text": [
      "['apple', 'orange', 'grape', 'pineapple']\n"
     ]
    }
   ],
   "source": [
    "# Example\n",
    "fruits = ['apple', 'orange', 'water lemon', 'grape', 'pineapple']\n",
    "\n",
    "# lets remove water lemon from this list\n",
    "fruits.remove('water lemon')\n",
    "print(fruits)"
   ]
  },
  {
   "cell_type": "markdown",
   "id": "06e91c5f",
   "metadata": {},
   "source": [
    "## vii) Clear:\n",
    "### This is used to clear all elements in a list"
   ]
  },
  {
   "cell_type": "code",
   "execution_count": 17,
   "id": "ed937459",
   "metadata": {},
   "outputs": [
    {
     "name": "stdout",
     "output_type": "stream",
     "text": [
      "[]\n"
     ]
    }
   ],
   "source": [
    "# Example\n",
    "fruits = ['apple', 'orange', 'water lemon', 'grape', 'pineapple']\n",
    "\n",
    "# lets clear all items in this list\n",
    "fruits.clear()\n",
    "print(fruits)"
   ]
  },
  {
   "cell_type": "markdown",
   "id": "aa0e35c8",
   "metadata": {},
   "source": [
    "## viii) Count:\n",
    "### This is used to count how many times an element appears in a list"
   ]
  },
  {
   "cell_type": "code",
   "execution_count": 19,
   "id": "342b052e",
   "metadata": {},
   "outputs": [
    {
     "data": {
      "text/plain": [
       "3"
      ]
     },
     "execution_count": 19,
     "metadata": {},
     "output_type": "execute_result"
    }
   ],
   "source": [
    "# Example\n",
    "fruits = ['apple', 'orange', 'grape', 'water lemon', 'grape', 'pineapple', 'grape']\n",
    "\n",
    "# we'll count how many times grape appeared in this list\n",
    "fruits.count('grape')"
   ]
  },
  {
   "cell_type": "markdown",
   "id": "9f20786f",
   "metadata": {},
   "source": [
    "## ix) Reverse:\n",
    "### This is used to reverse the elements in a list and display them in backward format"
   ]
  },
  {
   "cell_type": "code",
   "execution_count": 21,
   "id": "365d415b",
   "metadata": {},
   "outputs": [
    {
     "name": "stdout",
     "output_type": "stream",
     "text": [
      "['pineapple', 'grape', 'water lemon', 'orange', 'apple']\n"
     ]
    }
   ],
   "source": [
    "# Example\n",
    "fruits = ['apple', 'orange', 'water lemon', 'grape', 'pineapple']\n",
    "\n",
    "fruits.reverse()\n",
    "print(fruits)"
   ]
  },
  {
   "cell_type": "markdown",
   "id": "91274a08",
   "metadata": {},
   "source": [
    "## 2) Tuple in python:\n",
    "### Things enclosed in a normal paranthesis ( ) are called tuple\n",
    "### Elements in a tuple can't be changed unlike those in a list\n",
    "### In tuple, only .count('text') and index works"
   ]
  },
  {
   "cell_type": "code",
   "execution_count": 22,
   "id": "1f87707a",
   "metadata": {},
   "outputs": [
    {
     "name": "stdout",
     "output_type": "stream",
     "text": [
      "('vehicle', 20, 'sports', 'green')\n"
     ]
    }
   ],
   "source": [
    "# Example\n",
    "my_tuple = ('vehicle', 20, 'sports', 'green')\n",
    "print(my_tuple)"
   ]
  },
  {
   "cell_type": "markdown",
   "id": "3b96fcb9",
   "metadata": {},
   "source": [
    "## 3) Set In Python:\n",
    "\n",
    "### Anything in { } is considered a set\n",
    "### Set also eliminates duplicates"
   ]
  },
  {
   "cell_type": "code",
   "execution_count": 13,
   "id": "af516c95",
   "metadata": {},
   "outputs": [
    {
     "name": "stdout",
     "output_type": "stream",
     "text": [
      "{1, 2, 3, 4, 5, 6, 7, 8, 9}\n",
      "<class 'set'>\n"
     ]
    }
   ],
   "source": [
    "numbers = {1,2,3,4,5,6,7,8,9}\n",
    "print(numbers)\n",
    "print(type(numbers))"
   ]
  },
  {
   "cell_type": "code",
   "execution_count": 15,
   "id": "fa9ae21f",
   "metadata": {},
   "outputs": [
    {
     "name": "stdout",
     "output_type": "stream",
     "text": [
      "{1, 2, 3, 4, 5, 6, 7, 8, 9}\n"
     ]
    }
   ],
   "source": [
    "# Set can also eliminates duplicates\n",
    "\n",
    "numbers = {1,2,2,3,4,5,5,6,6,7,8,8,8,9}\n",
    "print(numbers)"
   ]
  },
  {
   "cell_type": "markdown",
   "id": "5ea8f76a",
   "metadata": {},
   "source": [
    "## 4) Dictionary in python:\n",
    "### Dictionary are enclosed in { } just like set\n",
    "### In dictionary, there exists what we call key-value pairs, where you can assign pairs to a value"
   ]
  },
  {
   "cell_type": "code",
   "execution_count": 7,
   "id": "e80e4e13",
   "metadata": {},
   "outputs": [],
   "source": [
    "# Example\n",
    "person = {'Name': 'Kingsley', 'Occupation': 'Data Analyst', 'Position': 'Tutor'}\n",
    "\n",
    "# Here we have Name as the key and Kingsley as the value assigned with the key"
   ]
  },
  {
   "cell_type": "code",
   "execution_count": 8,
   "id": "0ae5215a",
   "metadata": {},
   "outputs": [
    {
     "data": {
      "text/plain": [
       "dict_keys(['Name', 'Occupation', 'Position'])"
      ]
     },
     "execution_count": 8,
     "metadata": {},
     "output_type": "execute_result"
    }
   ],
   "source": [
    "person.keys()"
   ]
  },
  {
   "cell_type": "code",
   "execution_count": 9,
   "id": "937214b5",
   "metadata": {},
   "outputs": [
    {
     "data": {
      "text/plain": [
       "dict_values(['Kingsley', 'Data Analyst', 'Tutor'])"
      ]
     },
     "execution_count": 9,
     "metadata": {},
     "output_type": "execute_result"
    }
   ],
   "source": [
    "person.values()"
   ]
  },
  {
   "cell_type": "code",
   "execution_count": 10,
   "id": "61a222a7",
   "metadata": {},
   "outputs": [
    {
     "name": "stdout",
     "output_type": "stream",
     "text": [
      "{'Name': 'Kingsley', 'Occupation': 'Data Analyst', 'Position': 'Student'}\n"
     ]
    }
   ],
   "source": [
    "# You can also change the element in a dictionary\n",
    "person = {'Name': 'Kingsley', 'Occupation': 'Data Analyst', 'Position': 'Tutor'}\n",
    "person['Position'] = 'Student'\n",
    "\n",
    "print(person)"
   ]
  },
  {
   "cell_type": "markdown",
   "id": "f5ddcb4d",
   "metadata": {},
   "source": [
    "## Update in dictionary\n",
    "### This is used to add another set of specific keys and values to a set"
   ]
  },
  {
   "cell_type": "code",
   "execution_count": 11,
   "id": "7f26d590",
   "metadata": {},
   "outputs": [],
   "source": [
    "# Example\n",
    "person = {'Name': 'Kingsley', 'Occupation': 'Data Analyst', 'Position': 'Tutor'}\n",
    "person.update({'Hobby': 'Eating and Playing'})"
   ]
  },
  {
   "cell_type": "code",
   "execution_count": 12,
   "id": "7b2a364d",
   "metadata": {},
   "outputs": [
    {
     "name": "stdout",
     "output_type": "stream",
     "text": [
      "{'Name': 'Kingsley', 'Occupation': 'Data Analyst', 'Position': 'Tutor', 'Hobby': 'Eating and Playing'}\n"
     ]
    }
   ],
   "source": [
    "print(person)"
   ]
  },
  {
   "cell_type": "markdown",
   "id": "9f867d83",
   "metadata": {},
   "source": [
    "## Setdefault in dictionary\n",
    "### This, like update can be used to insert a specific key and value to a set"
   ]
  },
  {
   "cell_type": "code",
   "execution_count": 15,
   "id": "6ea6f1c3",
   "metadata": {},
   "outputs": [
    {
     "name": "stdout",
     "output_type": "stream",
     "text": [
      "Data Scientist\n",
      "{'Name': 'Kingsley', 'Occupation': 'Data Analyst', 'Position': 'Tutor', 'Hobby': 'Eating and Playing', 'Profession': 'Data Scientist'}\n"
     ]
    }
   ],
   "source": [
    "# Example\n",
    "person = {'Name': 'Kingsley', 'Occupation': 'Data Analyst', 'Position': 'Tutor', 'Hobby': 'Eating and Playing'}\n",
    "\n",
    "a = person.setdefault('Profession', 'Data Scientist')\n",
    "print(a)\n",
    "print(person)"
   ]
  },
  {
   "cell_type": "code",
   "execution_count": null,
   "id": "22aedc9e",
   "metadata": {},
   "outputs": [],
   "source": []
  }
 ],
 "metadata": {
  "kernelspec": {
   "display_name": "Python 3 (ipykernel)",
   "language": "python",
   "name": "python3"
  },
  "language_info": {
   "codemirror_mode": {
    "name": "ipython",
    "version": 3
   },
   "file_extension": ".py",
   "mimetype": "text/x-python",
   "name": "python",
   "nbconvert_exporter": "python",
   "pygments_lexer": "ipython3",
   "version": "3.9.13"
  }
 },
 "nbformat": 4,
 "nbformat_minor": 5
}
